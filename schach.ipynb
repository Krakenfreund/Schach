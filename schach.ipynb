{
 "cells": [
  {
   "attachments": {},
   "cell_type": "markdown",
   "metadata": {},
   "source": [
    "### Import dataset"
   ]
  },
  {
   "cell_type": "code",
   "execution_count": 72,
   "metadata": {},
   "outputs": [
    {
     "data": {
      "text/html": [
       "<div>\n",
       "<style scoped>\n",
       "    .dataframe tbody tr th:only-of-type {\n",
       "        vertical-align: middle;\n",
       "    }\n",
       "\n",
       "    .dataframe tbody tr th {\n",
       "        vertical-align: top;\n",
       "    }\n",
       "\n",
       "    .dataframe thead th {\n",
       "        text-align: right;\n",
       "    }\n",
       "</style>\n",
       "<table border=\"1\" class=\"dataframe\">\n",
       "  <thead>\n",
       "    <tr style=\"text-align: right;\">\n",
       "      <th></th>\n",
       "      <th>id</th>\n",
       "      <th>rated</th>\n",
       "      <th>created_at</th>\n",
       "      <th>last_move_at</th>\n",
       "      <th>turns</th>\n",
       "      <th>victory_status</th>\n",
       "      <th>winner</th>\n",
       "      <th>increment_code</th>\n",
       "      <th>white_id</th>\n",
       "      <th>white_rating</th>\n",
       "      <th>black_id</th>\n",
       "      <th>black_rating</th>\n",
       "      <th>moves</th>\n",
       "      <th>opening_eco</th>\n",
       "      <th>opening_name</th>\n",
       "      <th>opening_ply</th>\n",
       "    </tr>\n",
       "  </thead>\n",
       "  <tbody>\n",
       "    <tr>\n",
       "      <th>0</th>\n",
       "      <td>TZJHLljE</td>\n",
       "      <td>False</td>\n",
       "      <td>1.504210e+12</td>\n",
       "      <td>1.504210e+12</td>\n",
       "      <td>13</td>\n",
       "      <td>outoftime</td>\n",
       "      <td>white</td>\n",
       "      <td>15+2</td>\n",
       "      <td>bourgris</td>\n",
       "      <td>1500</td>\n",
       "      <td>a-00</td>\n",
       "      <td>1191</td>\n",
       "      <td>d4 d5 c4 c6 cxd5 e6 dxe6 fxe6 Nf3 Bb4+ Nc3 Ba5...</td>\n",
       "      <td>D10</td>\n",
       "      <td>Slav Defense: Exchange Variation</td>\n",
       "      <td>5</td>\n",
       "    </tr>\n",
       "    <tr>\n",
       "      <th>1</th>\n",
       "      <td>l1NXvwaE</td>\n",
       "      <td>True</td>\n",
       "      <td>1.504130e+12</td>\n",
       "      <td>1.504130e+12</td>\n",
       "      <td>16</td>\n",
       "      <td>resign</td>\n",
       "      <td>black</td>\n",
       "      <td>5+10</td>\n",
       "      <td>a-00</td>\n",
       "      <td>1322</td>\n",
       "      <td>skinnerua</td>\n",
       "      <td>1261</td>\n",
       "      <td>d4 Nc6 e4 e5 f4 f6 dxe5 fxe5 fxe5 Nxe5 Qd4 Nc6...</td>\n",
       "      <td>B00</td>\n",
       "      <td>Nimzowitsch Defense: Kennedy Variation</td>\n",
       "      <td>4</td>\n",
       "    </tr>\n",
       "    <tr>\n",
       "      <th>2</th>\n",
       "      <td>mIICvQHh</td>\n",
       "      <td>True</td>\n",
       "      <td>1.504130e+12</td>\n",
       "      <td>1.504130e+12</td>\n",
       "      <td>61</td>\n",
       "      <td>mate</td>\n",
       "      <td>white</td>\n",
       "      <td>5+10</td>\n",
       "      <td>ischia</td>\n",
       "      <td>1496</td>\n",
       "      <td>a-00</td>\n",
       "      <td>1500</td>\n",
       "      <td>e4 e5 d3 d6 Be3 c6 Be2 b5 Nd2 a5 a4 c5 axb5 Nc...</td>\n",
       "      <td>C20</td>\n",
       "      <td>King's Pawn Game: Leonardis Variation</td>\n",
       "      <td>3</td>\n",
       "    </tr>\n",
       "  </tbody>\n",
       "</table>\n",
       "</div>"
      ],
      "text/plain": [
       "         id  rated    created_at  last_move_at  turns victory_status winner  \\\n",
       "0  TZJHLljE  False  1.504210e+12  1.504210e+12     13      outoftime  white   \n",
       "1  l1NXvwaE   True  1.504130e+12  1.504130e+12     16         resign  black   \n",
       "2  mIICvQHh   True  1.504130e+12  1.504130e+12     61           mate  white   \n",
       "\n",
       "  increment_code  white_id  white_rating   black_id  black_rating  \\\n",
       "0           15+2  bourgris          1500       a-00          1191   \n",
       "1           5+10      a-00          1322  skinnerua          1261   \n",
       "2           5+10    ischia          1496       a-00          1500   \n",
       "\n",
       "                                               moves opening_eco  \\\n",
       "0  d4 d5 c4 c6 cxd5 e6 dxe6 fxe6 Nf3 Bb4+ Nc3 Ba5...         D10   \n",
       "1  d4 Nc6 e4 e5 f4 f6 dxe5 fxe5 fxe5 Nxe5 Qd4 Nc6...         B00   \n",
       "2  e4 e5 d3 d6 Be3 c6 Be2 b5 Nd2 a5 a4 c5 axb5 Nc...         C20   \n",
       "\n",
       "                             opening_name  opening_ply  \n",
       "0        Slav Defense: Exchange Variation            5  \n",
       "1  Nimzowitsch Defense: Kennedy Variation            4  \n",
       "2   King's Pawn Game: Leonardis Variation            3  "
      ]
     },
     "execution_count": 72,
     "metadata": {},
     "output_type": "execute_result"
    }
   ],
   "source": [
    "import warnings\n",
    "warnings.filterwarnings('ignore')\n",
    "import pandas as pd\n",
    "df = pd.read_csv(\"games.csv\") # Import als df, Komma als seperator\n",
    "df.head(3)"
   ]
  },
  {
   "attachments": {},
   "cell_type": "markdown",
   "metadata": {},
   "source": [
    "### Easiest evaluation: Winrates with white / black"
   ]
  },
  {
   "cell_type": "code",
   "execution_count": 73,
   "metadata": {},
   "outputs": [
    {
     "name": "stdout",
     "output_type": "stream",
     "text": [
      "White: 49.9 %\n",
      "Black: 45.4 %\n",
      "Draw: 4.7 %\n"
     ]
    }
   ],
   "source": [
    "df[\"winner\"].unique()\n",
    "print(\"White:\", 100*round(df[df[\"winner\"] == \"white\"].count()[0]/len(df), 3), \"%\")\n",
    "print(\"Black:\", 100*round(df[df[\"winner\"] == \"black\"].count()[0]/len(df), 3), \"%\")\n",
    "print(\"Draw:\", 100*round(df[df[\"winner\"] == \"draw\"].count()[0]/len(df), 3), \"%\")"
   ]
  },
  {
   "attachments": {},
   "cell_type": "markdown",
   "metadata": {},
   "source": [
    "Now depending on rating\n",
    "- Work in Progress"
   ]
  },
  {
   "cell_type": "code",
   "execution_count": 74,
   "metadata": {},
   "outputs": [
    {
     "name": "stdout",
     "output_type": "stream",
     "text": [
      "Min rating: 816.5\n",
      "Max rating: 2475.5\n"
     ]
    },
    {
     "data": {
      "text/plain": [
       "0.013909661980257254"
      ]
     },
     "execution_count": 74,
     "metadata": {},
     "output_type": "execute_result"
    },
    {
     "data": {
      "image/png": "[encoded data removed]",
      "text/plain": [
       "<Figure size 640x480 with 1 Axes>"
      ]
     },
     "metadata": {},
     "output_type": "display_data"
    }
   ],
   "source": [
    "dfr = df[df[\"rated\"]] # Create DF with only rated games\n",
    "dfr[\"avg_rating\"] = (dfr[\"white_rating\"] + dfr[\"black_rating\"])/2\n",
    "dfr[\"avg_rating\"].hist()\n",
    "print(\"Min rating:\", dfr[\"avg_rating\"].min())\n",
    "print(\"Max rating:\", dfr[\"avg_rating\"].max())\n",
    "cont = (dfr[\"avg_rating\"].max() - dfr[\"avg_rating\"].min())/5\n",
    "dfr[dfr[\"avg_rating\"] < dfr[\"avg_rating\"].min() + cont][dfr[\"winner\"] == \"white\"].count()[0]/len(df)"
   ]
  },
  {
   "cell_type": "code",
   "execution_count": 75,
   "metadata": {},
   "outputs": [
    {
     "name": "stdout",
     "output_type": "stream",
     "text": [
      "816.5 to 1148.3 White: 0.4826989619377163\n",
      "816.5 to 1148.3 Black: 0.47058823529411764\n",
      "816.5 to 1148.3 Draw: 0.04671280276816609\n",
      "1148.3 to 1480.1 White: 0.5104748603351955\n",
      "1148.3 to 1480.1 Black: 0.45006983240223464\n",
      "1148.3 to 1480.1 Draw: 0.03945530726256983\n",
      "1480.1 to 1811.9 White: 0.5026851998104565\n",
      "1480.1 to 1811.9 Black: 0.4566419207076291\n",
      "1480.1 to 1811.9 Draw: 0.04067287948191439\n",
      "1811.9 to 2143.7 White: 0.49952335557673977\n",
      "1811.9 to 2143.7 Black: 0.45764219891960595\n",
      "1811.9 to 2143.7 Draw: 0.04283444550365428\n",
      "2143.7 to 2475.5 White: 0.4984523956914696\n",
      "2143.7 to 2475.5 Black: 0.4571004085675375\n",
      "2143.7 to 2475.5 Draw: 0.04444719574099294\n"
     ]
    }
   ],
   "source": [
    "for i in range(1,6): \n",
    "     print(dfr[\"avg_rating\"].min() + (i-1)*cont, \"to\", dfr[\"avg_rating\"].min() + i*cont, \"White:\", dfr[dfr[\"avg_rating\"] < dfr[\"avg_rating\"].min() + i*cont][dfr[\"winner\"] == \"white\"].count()[0]/len(dfr[dfr[\"avg_rating\"] < dfr[\"avg_rating\"].min() + i*cont]))\n",
    "     print(dfr[\"avg_rating\"].min() + (i-1)*cont, \"to\", dfr[\"avg_rating\"].min() + i*cont, \"Black:\", dfr[dfr[\"avg_rating\"] < dfr[\"avg_rating\"].min() + i*cont][dfr[\"winner\"] == \"black\"].count()[0]/len(dfr[dfr[\"avg_rating\"] < dfr[\"avg_rating\"].min() + i*cont]))\n",
    "     print(dfr[\"avg_rating\"].min() + (i-1)*cont, \"to\", dfr[\"avg_rating\"].min() + i*cont, \"Draw:\", dfr[dfr[\"avg_rating\"] < dfr[\"avg_rating\"].min() + i*cont][dfr[\"winner\"] == \"draw\"].count()[0]/len(dfr[dfr[\"avg_rating\"] < dfr[\"avg_rating\"].min() + i*cont]))\n"
   ]
  }
 ],
 "metadata": {
  "kernelspec": {
   "display_name": "base",
   "language": "python",
   "name": "python3"
  },
  "language_info": {
   "codemirror_mode": {
    "name": "ipython",
    "version": 3
   },
   "file_extension": ".py",
   "mimetype": "text/x-python",
   "name": "python",
   "nbconvert_exporter": "python",
   "pygments_lexer": "ipython3",
   "version": "3.10.9"
  },
  "orig_nbformat": 4
 },
 "nbformat": 4,
 "nbformat_minor": 2
}
